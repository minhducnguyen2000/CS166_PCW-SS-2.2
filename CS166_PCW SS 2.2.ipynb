{
 "cells": [
  {
   "cell_type": "code",
   "execution_count": 2,
   "metadata": {},
   "outputs": [],
   "source": [
    "import heapq\n",
    "\n",
    "class Event:\n",
    "    '''\n",
    "    Store the properties of one event in the Schedule class defined below. Each\n",
    "    event has a time at which it needs to run, a function to call when running\n",
    "    the event, along with the arguments and keyword arguments to pass to that\n",
    "    function.\n",
    "    '''\n",
    "    def __init__(self, timestamp, function, *args, **kwargs):\n",
    "        self.timestamp = timestamp\n",
    "        self.function = function\n",
    "        self.args = args\n",
    "        self.kwargs = kwargs\n",
    "\n",
    "    def __lt__(self, other):\n",
    "        '''\n",
    "        This overloads the less-than operator in Python. We need it so the\n",
    "        priority queue knows how to compare two events. We want events with\n",
    "        earlier (smaller) times to go first.\n",
    "        '''\n",
    "        return self.timestamp < other.timestamp\n",
    "\n",
    "    def run(self, schedule):\n",
    "        '''\n",
    "        Run an event by calling the function with its arguments and keyword\n",
    "        arguments. The first argument to any event function is always the\n",
    "        schedule in which events are being tracked. The schedule object can be\n",
    "        used to add new events to the priority queue.\n",
    "        '''\n",
    "        self.function(schedule, *self.args, **self.kwargs)\n",
    "\n",
    "\n",
    "class Schedule:\n",
    "    '''\n",
    "    Implement an event schedule using a priority queue. You can add events and\n",
    "    run the next event.\n",
    "    \n",
    "    The `now` attribute contains the time at which the last event was run.\n",
    "    '''\n",
    "    \n",
    "    def __init__(self):\n",
    "        self.now = 0  # Keep track of the current simulation time\n",
    "        self.priority_queue = []  # The priority queue of events to run\n",
    "    \n",
    "    def add_event_at(self, timestamp, function, *args, **kwargs):\n",
    "        # Add an event to the schedule at a particular point in time.\n",
    "        heapq.heappush(\n",
    "            self.priority_queue,\n",
    "            Event(timestamp, function, *args, **kwargs))\n",
    "    \n",
    "    def add_event_after(self, interval, function, *args, **kwargs):\n",
    "        # Add an event to the schedule after a specified time interval.\n",
    "        self.add_event_at(self.now + interval, function, *args, **kwargs)\n",
    "    \n",
    "    def next_event_time(self):\n",
    "        return self.priority_queue[0].timestamp\n",
    "\n",
    "    def run_next_event(self):\n",
    "        # Get the next event from the priority queue and run it.\n",
    "        event = heapq.heappop(self.priority_queue)\n",
    "        self.now = event.timestamp\n",
    "        event.run(self)\n",
    "        \n",
    "    def __repr__(self):\n",
    "        return (\n",
    "            f'Schedule() at time {self.now} ' +\n",
    "            f'with {len(self.priority_queue)} events in the queue')\n",
    "    \n",
    "    def print_events(self):\n",
    "        print(repr(self))\n",
    "        for event in sorted(self.priority_queue):\n",
    "            print(f'   {event.timestamp}: {event.function.__name__}')\n"
   ]
  },
  {
   "cell_type": "code",
   "execution_count": 3,
   "metadata": {},
   "outputs": [],
   "source": [
    "# M/D/1 queue\n",
    "\n",
    "import scipy.stats as sts\n",
    "import numpy as np\n",
    "\n",
    "\n",
    "class Queue:\n",
    "    def __init__(self, service_rate):\n",
    "        # Store the deterministic service time for an M/D/1 queue\n",
    "        self.service_time = 1 / service_rate\n",
    "        # We start with an empty queue and the server not busy\n",
    "        self.people_in_queue = 0\n",
    "        self.people_being_served = 0\n",
    "\n",
    "    def add_customer(self, schedule):\n",
    "        # Add the customer to the queue\n",
    "        self.people_in_queue += 1\n",
    "        if self.people_being_served < 1:\n",
    "            # This customer can be served immediately\n",
    "            schedule.add_event_after(0, self.start_serving_customer)\n",
    "            \n",
    "    def start_serving_customer(self, schedule):\n",
    "        # Move the customer from the queue to a server\n",
    "        self.people_in_queue -= 1\n",
    "        self.people_being_served += 1\n",
    "        # Schedule when the server will be done with the customer\n",
    "        schedule.add_event_after(\n",
    "            self.service_time,\n",
    "            self.finish_serving_customer)\n",
    "            \n",
    "    def finish_serving_customer(self, schedule):\n",
    "        # Remove the customer from the server\n",
    "        self.people_being_served -= 1\n",
    "        if self.people_in_queue > 0:\n",
    "            # There are more people in the queue so serve the next customer\n",
    "            schedule.add_event_after(0, self.start_serving_customer)\n",
    "\n",
    "\n",
    "class BusSystem:\n",
    "    \n",
    "    def __init__(self, arrival_rate, service_rate):\n",
    "        self.queue = Queue(service_rate)\n",
    "        self.arrival_distribution = sts.expon(scale=1/arrival_rate)\n",
    "\n",
    "    def add_customer(self, schedule):\n",
    "        # Add this customer to the queue\n",
    "        self.queue.add_customer(schedule)\n",
    "        # Schedule when to add another customer\n",
    "        schedule.add_event_after(\n",
    "            self.arrival_distribution.rvs(),\n",
    "            self.add_customer)\n",
    "\n",
    "    def run(self, schedule):\n",
    "        # Schedule when the first customer arrives\n",
    "        schedule.add_event_after(\n",
    "            self.arrival_distribution.rvs(),\n",
    "            self.add_customer)\n",
    "        \n",
    "\n",
    "def run_simulation(arrival_rate, service_rate, run_until):\n",
    "    schedule = Schedule()\n",
    "    bus_system = BusSystem(arrival_rate, service_rate)\n",
    "    bus_system.run(schedule)\n",
    "    while schedule.next_event_time() < run_until:\n",
    "        schedule.run_next_event()\n",
    "    return bus_system"
   ]
  },
  {
   "cell_type": "code",
   "execution_count": 4,
   "metadata": {},
   "outputs": [
    {
     "name": "stdout",
     "output_type": "stream",
     "text": [
      "There are 18 people in the queue\n"
     ]
    }
   ],
   "source": [
    "# Run a short test\n",
    "bus_system = run_simulation(arrival_rate=1.2, service_rate=1, run_until=100)\n",
    "print(f'There are {bus_system.queue.people_in_queue} people in the queue')"
   ]
  },
  {
   "cell_type": "code",
   "execution_count": 9,
   "metadata": {},
   "outputs": [
    {
     "name": "stderr",
     "output_type": "stream",
     "text": [
      "No handles with labels found to put in legend.\n"
     ]
    },
    {
     "name": "stdout",
     "output_type": "stream",
     "text": [
      "The average number of people in queue: 1.4\n",
      "Standard error of the mean: 0.1874873733122184\n",
      "95% confidence interval of population mean: [1.7674752516919479, 1.032524748308052]\n"
     ]
    },
    {
     "data": {
      "image/png": "[encoded data removed]",
      "text/plain": [
       "<Figure size 432x288 with 1 Axes>"
      ]
     },
     "metadata": {
      "needs_background": "light"
     },
     "output_type": "display_data"
    }
   ],
   "source": [
    "import matplotlib.pyplot as plt # import matplot to plot data\n",
    "\n",
    "# store the result to plot histogram\n",
    "result_experiment_1 = []\n",
    "\n",
    "N_1 = 100 #test with 100 trials\n",
    "\n",
    "for i in range(N_1):\n",
    "    bus_system = run_simulation(arrival_rate=0.8, service_rate=1, run_until=100)\n",
    "    result_experiment_1.append(bus_system.queue.people_in_queue)\n",
    "\n",
    "plt.hist(result_experiment_1)\n",
    "plt.xlabel('people in queue') # Label the horizontal axis\n",
    "plt.ylabel('frequency') # Label the vertical axis\n",
    "plt.legend() # Display the labels on the plot\n",
    "\n",
    "m_1 = np.mean(result_experiment_1)\n",
    "print('The average number of people in queue:', m_1)\n",
    "\n",
    "t_1 = sts.sem(result_experiment_1)\n",
    "print('Standard error of the mean:', t_1)\n",
    "print('95% confidence interval of population mean:', [m_1 + 1.96*t_1, m_1 - 1.96*t_1])\n",
    "\n",
    "plt.show()"
   ]
  },
  {
   "cell_type": "code",
   "execution_count": 10,
   "metadata": {},
   "outputs": [
    {
     "name": "stderr",
     "output_type": "stream",
     "text": [
      "No handles with labels found to put in legend.\n"
     ]
    },
    {
     "name": "stdout",
     "output_type": "stream",
     "text": [
      "The average number of people in queue: 1.4\n",
      "Standard error of the mean: 0.06905627247954216\n",
      "95% confidence interval of population mean: [1.7353502940599026, 1.4646497059400976]\n"
     ]
    },
    {
     "data": {
      "image/png": "[encoded data removed]",
      "text/plain": [
       "<Figure size 432x288 with 1 Axes>"
      ]
     },
     "metadata": {
      "needs_background": "light"
     },
     "output_type": "display_data"
    }
   ],
   "source": [
    "# store the result to plot histogram\n",
    "result_experiment_2 = []\n",
    "\n",
    "N_2 = 1000 #test with 100 trials\n",
    "\n",
    "for i in range(N_2):\n",
    "    bus_system = run_simulation(arrival_rate=0.8, service_rate=1, run_until=100)\n",
    "    result_experiment_2.append(bus_system.queue.people_in_queue)\n",
    "\n",
    "plt.hist(result_experiment_2)\n",
    "plt.xlabel('people in queue') # Label the horizontal axis\n",
    "plt.ylabel('frequency') # Label the vertical axis\n",
    "plt.legend() # Display the labels on the plot\n",
    "\n",
    "m_2 = np.mean(result_experiment_2)\n",
    "print('The average number of people in queue:', m_1)\n",
    "\n",
    "t_2 = sts.sem(result_experiment_2)\n",
    "print('Standard error of the mean:', t_2)\n",
    "print('95% confidence interval of population mean:', [m_2 + 1.96*t_2, m_2 - 1.96*t_2])\n",
    "\n",
    "plt.show()"
   ]
  },
  {
   "cell_type": "markdown",
   "metadata": {},
   "source": [
    "### Comparison between two experiments\n",
    "\n",
    "By observation, I saw that:\n",
    "- The shape of distributions between 2 experiments is not different. They are exponetial distribution with high frequency in smaller values and get smaller frequency in large values.\n",
    "- The average queue lengths (the mean) are the same in both experiments (mean = 1.4 people)\n",
    "- However, by increasing the number of trials, the confident interval in the second experiment is narrower than the confident interval in the first experiment. "
   ]
  },
  {
   "cell_type": "markdown",
   "metadata": {},
   "source": [
    "### Experiments for different values of the arrival rate"
   ]
  },
  {
   "cell_type": "code",
   "execution_count": 13,
   "metadata": {},
   "outputs": [
    {
     "data": {
      "image/png": "[encoded data removed]",
      "text/plain": [
       "<Figure size 432x288 with 1 Axes>"
      ]
     },
     "metadata": {
      "needs_background": "light"
     },
     "output_type": "display_data"
    }
   ],
   "source": [
    "arrival_rate_list = [0.4,0.2,0.6]\n",
    "mean_list = []\n",
    "confident_interval_list = []\n",
    "\n",
    "#first test with arrival rate = 0.4\n",
    "result_exp_1 = []\n",
    "for i in range(100):\n",
    "    bus_system = run_simulation(arrival_rate=0.4, service_rate=1, run_until=100)\n",
    "    result_exp_1.append(bus_system.queue.people_in_queue)\n",
    "\n",
    "mean_list.append(np.mean(result_exp_1))\n",
    "confident_interval_list.append(np.mean(result_exp_1)+1.96*sts.sem(result_exp_1))\n",
    "\n",
    "#second test with arrival rate = 0.2\n",
    "result_exp_2 = []\n",
    "for i in range(100):\n",
    "    bus_system = run_simulation(arrival_rate=0.2, service_rate=1, run_until=100)\n",
    "    result_exp_2.append(bus_system.queue.people_in_queue)\n",
    "\n",
    "mean_list.append(np.mean(result_exp_2))\n",
    "confident_interval_list.append(np.mean(result_exp_2)+1.96*sts.sem(result_exp_2))\n",
    "\n",
    "#third test with arrival rate = 0.6\n",
    "result_exp_3 = []\n",
    "for i in range(100):\n",
    "    bus_system = run_simulation(arrival_rate=0.6, service_rate=1, run_until=100)\n",
    "    result_exp_3.append(bus_system.queue.people_in_queue)\n",
    "\n",
    "mean_list.append(np.mean(result_exp_3))\n",
    "confident_interval_list.append(np.mean(result_exp_3)+1.96*sts.sem(result_exp_3))\n",
    "\n",
    "plt.figure()\n",
    "plt.xlabel('Arrival Rate')\n",
    "plt.ylabel('Mean')\n",
    "plt.errorbar(arrival_rate_list, mean_list, confident_interval_list, color='black', marker='o', capsize=5, linestyle='--', linewidth=1)\n",
    "plt.show()\n"
   ]
  },
  {
   "cell_type": "markdown",
   "metadata": {},
   "source": [
    "### Reflection\n",
    "\n",
    "I used #EmpiricalAnalysis in this pre-class work by running many experiments with different numbers of trials, different arrival rates, different service rates to capture the differences in the results and the effects of each factor in the results. I also created visualizations with different types of plots (histogram and error bars). I also tried to create comparisons in results between experiments and understand why they happen. \n",
    "\n",
    "I used #Professionalism by creating good-looking visualization, clean code with well-organized comments, adding labals to the plots."
   ]
  }
 ],
 "metadata": {
  "kernelspec": {
   "display_name": "Python 3",
   "language": "python",
   "name": "python3"
  },
  "language_info": {
   "codemirror_mode": {
    "name": "ipython",
    "version": 3
   },
   "file_extension": ".py",
   "mimetype": "text/x-python",
   "name": "python",
   "nbconvert_exporter": "python",
   "pygments_lexer": "ipython3",
   "version": "3.7.3"
  }
 },
 "nbformat": 4,
 "nbformat_minor": 4
}
